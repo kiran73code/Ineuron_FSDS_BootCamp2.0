{
 "cells": [
  {
   "cell_type": "markdown",
   "metadata": {
    "id": "cyOfbWCdOjEr"
   },
   "source": [
    "# ASSIGNMENTS - Compulsory\n",
    "## Send it before 0000 hrs IST or 12 AM Wednesday\n",
    "\n",
    "## NOTE: Evaluation will be done before next class.\n",
    "\n",
    "## HOW TO SUBMIT: -\n",
    "Download this notebook, Solve it and upload in the google form given in the mail."
   ]
  },
  {
   "cell_type": "markdown",
   "metadata": {
    "id": "GT4IytkJMNa-"
   },
   "source": [
    "\n",
    "1. What is indentation error? Why indentation is important? Give one simple example?\n",
    "\n",
    "    The indentation error can occur when the spaces or tabs are not placed properly.\n",
    "    \n",
    "    Python is procedural language If there is an error due to indentation, it will come\n",
    "    in between the execution and can be a show stopper.\n",
    "    and indentation is specify the particulart block of code like flower bracket {} doing other \n",
    "    programming language.\n",
    "    \n",
    "    example:\n",
    "    \n",
    "    total = int(10)\n",
    "    if total==10:\n",
    "    print(\"Amount is :\",total)\n",
    "    \n",
    "    output:\n",
    "    print(\"Amount is :\",total)\n",
    "    ^\n",
    "    IndentationError: expected an indented block\n",
    "    \n",
    "    total = int(10)\n",
    "    if total==10:\n",
    "        print(\"Amount is :\"total)\n",
    "        \n",
    "    output:\n",
    "    Amount is :10\n",
    "    \n",
    "    \n",
    "    \n",
    "\n",
    "2. Correct the following code and write the comment where you made the correction?\n",
    "\n",
    "  ```python\n",
    "  class_started = bool(input(\"Hey friend, is class started?: [0-False/1-True]\"))\n",
    "\n",
    "  if class_started:\n",
    "      print(\"Since class started...\")\n",
    "      print(\"Lets concentrate\")\n",
    "  else:\n",
    "      print(\"Since class is not started...\")\n",
    "      print(\"let's revise\")    \n",
    "  ```\n",
    "  \n",
    "  \n",
    "  Ans :   \n",
    "  In above code in case user enter False/ 0 it's convereted into True  bcz \n",
    "  default data type is string and bool() methode convert\n",
    "  any string value to Ture\n",
    "          \n",
    " here is the correct code \n",
    "  \n",
    "class_started = input(\"Hey friend, is class started?: [0-False/1-True]\")\n",
    "\n",
    "\n",
    "if class_started == str(True):\n",
    "    class_started = True\n",
    "\n",
    "elif class_started == str(False):\n",
    "    class_started = False\n",
    "    \n",
    "else:\n",
    "    class_started = bool(int(class_started))\n",
    "    \n",
    "\n",
    "if class_started:\n",
    "    print(\"Since class started...\")\n",
    "    print(\"Lets concentrate\")\n",
    "else:\n",
    "    print(\"Since class is not started...\")\n",
    "    print(\"let's revise\") \n",
    "    \n",
    "    \n",
    "\n",
    "  **HINT:** Refer your data type conversion class\n",
    "  \n",
    "  \n",
    "\n",
    "\n",
    "\n",
    "\n",
    "5. What would be the solution?\n",
    "    1. True\n",
    "    2. False \n",
    "\n",
    "    ```python\n",
    "    a = 6\n",
    "    b = 10\n",
    "    print( not ( not a == 10 or not b == 10) )\n",
    "    ```\n",
    "   Ans:\n",
    "     2. False  \n",
    "    \n",
    "    \n",
    "    \n",
    "    \n",
    "    \n",
    "6. Find the answer as well as find out the reason behind the result? -\n",
    "    - case 1:\n",
    "        ```python\n",
    "        A = 5.0\n",
    "        B = 10/2\n",
    "        print(A is B)\n",
    "        ```\n",
    "        Ans:\n",
    "        False\n",
    "        is keyword is used for object identification.\n",
    "        bcz both variables are equal but not from the same object.\n",
    "        \n",
    "    - case 2:\n",
    "        ```python\n",
    "        A = 5.0\n",
    "        B = int(10/2)\n",
    "        print(A is B)\n",
    "        ```\n",
    "        Ans:\n",
    "         False\n",
    "         bcz A is float data type and  B is Integer data type\n",
    "         \n",
    "         \n",
    "    - case 3:\n",
    "        ```python\n",
    "        A = 5.0\n",
    "        B = float(10/2)\n",
    "        print(A is B)\n",
    "        ```\n",
    "        \n",
    "        Ans:\n",
    "        False\n",
    "        bcz both are float data type but not from the same object."
   ]
  },
  {
   "cell_type": "markdown",
   "metadata": {
    "id": "a_4kbBVWNY-4"
   },
   "source": [
    "### Try to understand the following examples and answer the question based on it - \n",
    "    \n",
    "**Arithmatic Operators**\n",
    "\n",
    "|Operation|Meaning|\n",
    "|:-:|:-:|\n",
    "| **+** |addition|\n",
    "| **-** |subtraction|\n",
    "| **\\*** |multiplication|\n",
    "| **/** |true division|\n",
    "| **//** |integer division|\n",
    "| **%** |the modulo operator|\n",
    "\n",
    "\n",
    "Here `+`, `-`, `*`, `/` are regular arithmatic operators. Lets look at the `//` and `%` operators\n",
    "\n",
    "Usecase or examples - \n",
    "    \n",
    "```python\n",
    "var_a = 5\n",
    "var_b = 25\n",
    "integer_division = var_b // var_a\n",
    "print(f\"integer division: {var_b}/{var_a}={integer_division}\")\n",
    "```\n",
    "\n",
    "OUTPUT: integer division: 25/5=5\n",
    "\n",
    "```python\n",
    "var_a = 3\n",
    "var_b = 25\n",
    "integer_division = var_b // var_a\n",
    "print(f\"integer division: {var_b}/{var_a}={integer_division}\")\n",
    "```\n",
    "\n",
    "OUTPUT: integer division: 25/3=8\n",
    "\n",
    "```python\n",
    "var_a = 5\n",
    "var_b = 25\n",
    "remainder = var_b % var_a\n",
    "print(f\"remainder: {var_b}/{var_a} is {remainder}\")\n",
    "```\n",
    "\n",
    "OUTPUT: remainder: 25/5 is 0\n",
    "\n",
    "```python\n",
    "var_a = 3\n",
    "var_b = 25\n",
    "remainder = var_b % var_a\n",
    "print(f\"remainder: {var_b}/{var_a} is {remainder}\")\n",
    "```\n",
    "\n",
    "OUTPUT: remainder: 25/3 is 1\n",
    "\n"
   ]
  },
  {
   "cell_type": "markdown",
   "metadata": {
    "id": "v288WPlMNxmM"
   },
   "source": [
    "### Answer below questions on the above theory - \n",
    "\n",
    "7. Write a program that asks the user to enter a number. You should print out a message to the user, either “That number is divisible by either 3 or 5”, or “That number is not divisible by either 3 or 5”. Be sure to consider the data type of the input you are taking in from the user. Use a single if/else block to solve this problem.\n",
    "\n",
    "8. Take user input for length and width. Then calculate the area of rectangle. Also print as per length and width whether its a square of rectangle.\n",
    "\n",
    "9. Take two variable radius_1 and radius_2 and calculate the area of circle_1 and circle_2. Also print which circle has large area. If area is equal then print area is equal.\n",
    "\n",
    "10. Check whether a year is leap year or not. Use nested if...else to solve this problem. A leap year is exactly divisible by 4 except for century years (years ending with 00). The century year is a leap year only if it is perfectly divisible by 400."
   ]
  },
  {
   "cell_type": "code",
   "execution_count": null,
   "metadata": {},
   "outputs": [],
   "source": []
  },
  {
   "cell_type": "code",
   "execution_count": null,
   "metadata": {},
   "outputs": [],
   "source": []
  },
  {
   "cell_type": "code",
   "execution_count": null,
   "metadata": {},
   "outputs": [],
   "source": [
    "#2. Correct the following code and write the comment where you made the correction?\n",
    "\n",
    "\n",
    "\n",
    "class_started = input(\"Hey friend, is class started?: [0-False/1-True]\")\n",
    "\n",
    "\n",
    "if class_started == str(True):\n",
    "    class_started = True\n",
    "\n",
    "elif class_started == str(False):\n",
    "    class_started = False\n",
    "    \n",
    "else:\n",
    "    class_started = bool(int(class_started))\n",
    "    \n",
    "\n",
    "if class_started:\n",
    "    print(\"Since class started...\")\n",
    "    print(\"Lets concentrate\")\n",
    "else:\n",
    "    print(\"Since class is not started...\")\n",
    "    print(\"let's revise\") "
   ]
  },
  {
   "cell_type": "code",
   "execution_count": null,
   "metadata": {},
   "outputs": [],
   "source": []
  },
  {
   "cell_type": "code",
   "execution_count": null,
   "metadata": {},
   "outputs": [],
   "source": [
    "# 3. Use if else condition to verify that dataype of `input()` method in python is always string.\n",
    "\n",
    "number = input(\"Enter Number:\")\n",
    "\n",
    "if type(number) == int:\n",
    "    print(\"Number is Integer\")\n",
    "\n",
    "elif type(number) == float:\n",
    "    print(\"Number is float\")\n",
    "    \n",
    "elif type(number)== str:\n",
    "    print(\"Number is String\")\n",
    "\n",
    "else:\n",
    "    print(\"Number is other data type\")\n"
   ]
  },
  {
   "cell_type": "code",
   "execution_count": null,
   "metadata": {},
   "outputs": [],
   "source": []
  },
  {
   "cell_type": "code",
   "execution_count": 13,
   "metadata": {},
   "outputs": [
    {
     "name": "stdout",
     "output_type": "stream",
     "text": [
      "Enter First Value12\n",
      "Enter Second Value13\n",
      "Enter Third Value14\n",
      "largest Value is : 14\n"
     ]
    }
   ],
   "source": [
    "#4. Take 3 variables and assign integer values to them. Find the largest variable, by only using the if and else conditions.\n",
    "\n",
    "num1 = int(input(\"Enter First Value\"))\n",
    "num2 = int(input(\"Enter Second Value\"))\n",
    "num3 = int(input(\"Enter Third Value\"))\n",
    "\n",
    "if num1 > num2:\n",
    "    if num1 > num3:\n",
    "        print(\"Largest Value is :\", num1)\n",
    "    else:\n",
    "        print(\"largest Value is :\", num3)\n",
    "\n",
    "else:\n",
    "    if num2 > num3:\n",
    "        print(\"largest Value is :\", num2)\n",
    "    else:\n",
    "        print(\"largest Value is :\", num3)\n",
    "\n",
    "        \n",
    "        \n",
    "\n",
    "\n",
    "        "
   ]
  },
  {
   "cell_type": "code",
   "execution_count": 9,
   "metadata": {},
   "outputs": [
    {
     "name": "stdout",
     "output_type": "stream",
     "text": [
      "Enter First Value11\n",
      "Enter First Value111\n",
      "Enter First Value1111\n",
      "largest Value is : 1111\n"
     ]
    }
   ],
   "source": [
    "#4. Take 3 variables and assign integer values to them. Find the largest variable, by only using the if and else conditions.\n",
    "\n",
    "\n",
    "num1 = int(input(\"Enter First Value\"))\n",
    "num2 = int(input(\"Enter Second Value\"))\n",
    "num3 = int(input(\"Enter Third Value\"))\n",
    "\n",
    "if num1 > num2:\n",
    "    if num1 > num3:\n",
    "        print(\"Largest Value is :\", num1)\n",
    "    else:\n",
    "        print(\"largest Value is :\",num3)\n",
    "\n",
    "elif num2 > num3:\n",
    "    print(\"largest Value is :\", num2)\n",
    "\n",
    "else:\n",
    "    print(\"largest Value is :\", num3)"
   ]
  },
  {
   "cell_type": "code",
   "execution_count": null,
   "metadata": {},
   "outputs": [],
   "source": []
  },
  {
   "cell_type": "code",
   "execution_count": 26,
   "metadata": {},
   "outputs": [
    {
     "name": "stdout",
     "output_type": "stream",
     "text": [
      "Enter any number:60\n",
      "That number is divisible by either 3 or 5\n"
     ]
    }
   ],
   "source": [
    "#7. Write a program that asks the user to enter a number. You should print out a message to the user, either “That number is divisible by either 3 or 5”, or “That number is not divisible by either 3 or 5”. Be sure to consider the data type of the input you are taking in from the user. Use a single if/else block to solve this problem.\n",
    "\n",
    "number = int(input(\"Enter any number:\"))\n",
    "\n",
    "if (number % 3 ==0 or number % 5==0):\n",
    "    print(\"That number is divisible by either 3 or 5\")\n",
    "else:\n",
    "    print(\"That number is not divisible by either 3 or 5\")"
   ]
  },
  {
   "cell_type": "code",
   "execution_count": null,
   "metadata": {},
   "outputs": [],
   "source": []
  },
  {
   "cell_type": "code",
   "execution_count": 28,
   "metadata": {},
   "outputs": [
    {
     "name": "stdout",
     "output_type": "stream",
     "text": [
      "Enter the Leangth:2\n",
      "Enter the Width:2\n",
      "Area of Square is: 4.0\n"
     ]
    }
   ],
   "source": [
    "#8. Take user input for length and width. Then calculate the area of rectangle. Also print as per length and width whether its a square of rectangle.\n",
    "\n",
    "length = float(input(\"Enter the Leangth:\"))\n",
    "width = float(input(\"Enter the Width:\"))\n",
    "\n",
    "area = length * width\n",
    "\n",
    "if length == width :\n",
    "    print(\"Area of Square is:\",area)\n",
    "else:\n",
    "    print(\"Area of Rectangle is:\",area)"
   ]
  },
  {
   "cell_type": "code",
   "execution_count": null,
   "metadata": {},
   "outputs": [],
   "source": []
  },
  {
   "cell_type": "code",
   "execution_count": 31,
   "metadata": {},
   "outputs": [
    {
     "name": "stdout",
     "output_type": "stream",
     "text": [
      "Enter The radius of first circle:4\n",
      "Enter The radius of second circle:7\n",
      "Circle_2 have a laege area is 153.86\n"
     ]
    }
   ],
   "source": [
    "#9. Take two variable radius_1 and radius_2 and calculate the area of circle_1 and circle_2. Also print which circle has large area. If area is equal then print area is equal.\n",
    "\n",
    "radius_1 = float(input(\"Enter The radius of first circle:\"))\n",
    "radius_2 = float(input(\"Enter The radius of second circle:\"))\n",
    "\n",
    "circle_1 = 3.14*(radius_1)**2\n",
    "circle_2 = 3.14*(radius_2)**2\n",
    "\n",
    "if circle_1 > circle_2:\n",
    "    print(\"Circle_1 have a laege area is\", circle_1)\n",
    "elif circle_2 > circle_1:\n",
    "    print(\"Circle_2 have a laege area is\", circle_2)\n",
    "else:\n",
    "    print(\"Both Circles are have a equal area is\",circle_1)\n",
    "    \n",
    "    "
   ]
  },
  {
   "cell_type": "code",
   "execution_count": null,
   "metadata": {},
   "outputs": [],
   "source": []
  },
  {
   "cell_type": "code",
   "execution_count": 34,
   "metadata": {},
   "outputs": [
    {
     "name": "stdout",
     "output_type": "stream",
     "text": [
      "Enter the Year:1900\n",
      "This is not leap Year 1900\n"
     ]
    }
   ],
   "source": [
    "#10. Check whether a year is leap year or not. Use nested if...else to solve this problem. A leap year is exactly divisible by 4 except for century years (years ending with 00). The century year is a leap year only if it is perfectly divisible by 400.\n",
    "\n",
    "year = int(input(\"Enter the Year:\"))\n",
    "\n",
    "if year % 4 == 0:\n",
    "    if year % 100 == 0:\n",
    "        if year % 400 == 0:\n",
    "            print(\"This is leap Year\", year)\n",
    "        else:\n",
    "            print(\"This is not leap Year\", year)\n",
    "    else:\n",
    "        print(\"This is leap Year\", year)\n",
    "else:\n",
    "    print(\"This is not a leap year\", year)"
   ]
  },
  {
   "cell_type": "code",
   "execution_count": null,
   "metadata": {},
   "outputs": [],
   "source": []
  },
  {
   "cell_type": "code",
   "execution_count": null,
   "metadata": {},
   "outputs": [],
   "source": []
  },
  {
   "cell_type": "code",
   "execution_count": null,
   "metadata": {},
   "outputs": [],
   "source": []
  },
  {
   "cell_type": "code",
   "execution_count": null,
   "metadata": {},
   "outputs": [],
   "source": []
  },
  {
   "cell_type": "code",
   "execution_count": null,
   "metadata": {},
   "outputs": [],
   "source": []
  }
 ],
 "metadata": {
  "colab": {
   "collapsed_sections": [],
   "provenance": []
  },
  "kernelspec": {
   "display_name": "Python 3",
   "language": "python",
   "name": "python3"
  },
  "language_info": {
   "codemirror_mode": {
    "name": "ipython",
    "version": 3
   },
   "file_extension": ".py",
   "mimetype": "text/x-python",
   "name": "python",
   "nbconvert_exporter": "python",
   "pygments_lexer": "ipython3",
   "version": "3.8.5"
  }
 },
 "nbformat": 4,
 "nbformat_minor": 1
}
